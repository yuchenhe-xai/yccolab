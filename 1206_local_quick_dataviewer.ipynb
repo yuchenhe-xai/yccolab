{
  "nbformat": 4,
  "nbformat_minor": 0,
  "metadata": {
    "colab": {
      "provenance": [],
      "authorship_tag": "ABX9TyMlkXbR6+VOXCLM2sTTO908",
      "include_colab_link": true
    },
    "kernelspec": {
      "name": "python3",
      "display_name": "Python 3"
    },
    "language_info": {
      "name": "python"
    }
  },
  "cells": [
    {
      "cell_type": "markdown",
      "metadata": {
        "id": "view-in-github",
        "colab_type": "text"
      },
      "source": [
        "<a href=\"https://colab.research.google.com/github/yuchenhe-xai/yccolab/blob/main/1206_local_quick_dataviewer.ipynb\" target=\"_parent\"><img src=\"https://colab.research.google.com/assets/colab-badge.svg\" alt=\"Open In Colab\"/></a>"
      ]
    },
    {
      "cell_type": "code",
      "execution_count": 1,
      "metadata": {
        "id": "hX37OLOApsYu"
      },
      "outputs": [],
      "source": [
        "import json\n",
        "import pandas as pd\n",
        "from IPython.display import display, Markdown\n",
        "from IPython.display import HTML\n",
        "import requests"
      ]
    },
    {
      "cell_type": "code",
      "source": [
        "#@title just easy show conversation for debugging  (code by Grok)\n",
        "import inspect\n",
        "\n",
        "# sys.path.append(os.path.expanduser('~/xai/train/'))\n",
        "\n",
        "# import tkinter as tk\n",
        "from IPython.display import HTML, display\n",
        "\n",
        "\n",
        "def display_conversation(conversation, conv_loss_mask=None, ratings=None):\n",
        "    \"\"\"\n",
        "    Display a conversation in a notebook with different colors for the 'user' and 'assistant' roles,\n",
        "    and show thumbs up or down based on ratings.\n",
        "\n",
        "    Parameters:\n",
        "    - conversation (list of dict or str): List where each element can be a dictionary with 'role' and 'content' or just a string.\n",
        "    - conv_loss_mask (list of bool): List of boolean values indicating whether to highlight the message.\n",
        "    - ratings (list of str): List of strings where 'LIKE' means thumbs up, 'DISLIKE' means thumbs down.\n",
        "    \"\"\"\n",
        "    user_bg_color = \"#d0e7ff\"  # light blue for user messages\n",
        "    assistant_bg_color = \"#d4edda\"  # light green for assistant messages\n",
        "    user_text_color = \"#084298\"  # darker blue for user text\n",
        "    assistant_text_color = \"#155724\"  # darker green for assistant text\n",
        "    html_output = \"\"\n",
        "    roles_default = [\"user\", \"assistant\"]\n",
        "\n",
        "    for i, entry in enumerate(conversation):\n",
        "        if isinstance(entry, str):\n",
        "            role = roles_default[i % 2]\n",
        "            content = entry\n",
        "        else:\n",
        "            role = entry[\"role\"]\n",
        "            content = entry[\"content\"]\n",
        "        is_user = role.lower() in [\"user\", \"human\"]\n",
        "\n",
        "        # Set color based on role\n",
        "        bg_color = user_bg_color if is_user else assistant_bg_color\n",
        "        text_color = user_text_color if is_user else assistant_text_color\n",
        "        role_display = \"User\" if is_user else \"Assistant\"\n",
        "        rating_display = \"\"\n",
        "\n",
        "        # Add rating icon if ratings are provided\n",
        "        if ratings and i < len(ratings):\n",
        "            rating = ratings[i]\n",
        "            if rating == 'LIKE':\n",
        "                rating_display = \"&#x1F44D;\"  # Thumbs up emoji\n",
        "            elif rating == 'DISLIKE':\n",
        "                rating_display = \"&#x1F44E;\"  # Thumbs down emoji\n",
        "\n",
        "        # Highlight if conv_loss_mask is True for this message\n",
        "        highlight_style = \"font-weight: bold; text-decoration: underline;\" if conv_loss_mask and conv_loss_mask[i] else \"font-weight: normal;\"\n",
        "\n",
        "        # Append each entry to HTML string with styling and rating icon\n",
        "        html_output += f\"\"\"\n",
        "        <div style='background-color: {bg_color}; color: {text_color};\n",
        "                    border-radius: 8px; padding: 10px; margin: 8px 0;'>\n",
        "            <strong style='{highlight_style}'>{role_display}:</strong> {rating_display}<br>\n",
        "            <span style='{highlight_style}'>{content}</span>\n",
        "        </div>\n",
        "        \"\"\"\n",
        "\n",
        "    display(HTML(html_output))\n"
      ],
      "metadata": {
        "cellView": "form",
        "id": "sV8PbPIXlc8K"
      },
      "execution_count": 87,
      "outputs": []
    },
    {
      "cell_type": "code",
      "source": [
        "#@title just easy show rubrics + comparision  (code by Grok)\n",
        "\n",
        "from IPython.display import display, HTML\n",
        "import markdown\n",
        "from pygments import highlight\n",
        "from pygments.lexers import get_lexer_by_name\n",
        "from pygments.formatters import HtmlFormatter\n",
        "from IPython.core.display import display, HTML\n",
        "from IPython.display import Javascript\n",
        "display(Javascript('''google.colab.output.setIframeHeight(0, true, {maxHeight: 5000})'''))\n",
        "# Function to apply syntax highlighting\n",
        "def syntax_highlight(code, language='python'):\n",
        "    lexer = get_lexer_by_name(language, stripall=True)\n",
        "    formatter = HtmlFormatter(style='monokai', noclasses=True)\n",
        "    return highlight(code, lexer, formatter)\n",
        "\n",
        "# Function to convert Markdown to HTML with code highlighting\n",
        "def markdown_to_html(markdown_text):\n",
        "    # Use markdown.markdown for older versions of markdown\n",
        "    return markdown.markdown(markdown_text, extensions=['fenced_code', 'codehilite'])\n",
        "\n",
        "\n",
        "def display_rubrics_ratings(data):\n",
        "  # print(data['point_wise_scores'])\n",
        "  # print(data['ranked_model_list'])\n",
        "  prompt = data['prompt']\n",
        "  rubrics = data['rubrics']\n",
        "  html_content = \"\"\n",
        "  rubrics_count = len(rubrics)//2\n",
        "\n",
        "  criteria_mapping = {}\n",
        "  criteria_rating = {}\n",
        "  for i in range(len(rubrics)):\n",
        "      criteria = rubrics[i]['criteria']\n",
        "      criteria_mapping[criteria] = criteria_mapping.get(criteria, {}) | {rubrics[i]['metadata']['model']: i}\n",
        "      criteria_rating[criteria] = criteria_rating.get(criteria, {}) | {rubrics[i]['metadata']['model']: int(\"yes\" == rubrics[i]['label'])}\n",
        "  model_order = []\n",
        "  for criteria in criteria_mapping:\n",
        "    grok = 1 - int('grok' in list(criteria_mapping[criteria])[0])\n",
        "    criteria_mapping[criteria] = [v for k, v in criteria_mapping[criteria].items()]\n",
        "    criteria_mapping[criteria] = criteria_mapping[criteria][::-1] if grok else criteria_mapping[criteria]\n",
        "    model_order = criteria_mapping[criteria]\n",
        "    criteria_rating[criteria] = [v for k, v in criteria_rating[criteria].items()]\n",
        "    criteria_rating[criteria] = criteria_rating[criteria][::-1] if grok else criteria_rating[criteria]\n",
        "\n",
        "  grok = int('grok' in data['ranked_model_list'][0])\n",
        "  model1 = rubrics[model_order[0]]['metadata']['model']\n",
        "  response1 = rubrics[model_order[0]]['response']\n",
        "  model2 = rubrics[model_order[1]]['metadata']['model']\n",
        "  response2 = rubrics[model_order[1]]['response']\n",
        "  score1 = data['point_wise_scores'][1-grok]\n",
        "  score2 = data['point_wise_scores'][grok]\n",
        "  bg_colors = {\n",
        "      1: \"rgb(255, 0, 0)\",   # Red\n",
        "      2: \"rgb(255, 64, 0)\",\n",
        "      3: \"rgb(255, 128, 0)\",\n",
        "      4: \"rgb(192, 255, 0)\",\n",
        "      5: \"rgb(128, 255, 0)\",\n",
        "      6: \"rgb(64, 255, 0)\",\n",
        "      7: \"rgb(0, 255, 0)\"    # Green\n",
        "  }\n",
        "  bg_color1, bg_color2 = bg_colors[score1], bg_colors[score2]\n",
        "\n",
        "  html_content += f\"\"\"\n",
        "      <div style=\"padding: 10px; border: 1px solid #808080; background-color: #222222;\">\n",
        "          {markdown_to_html(prompt)}\n",
        "      </div>\n",
        "  \"\"\"\n",
        "  html_content += f\"\"\"\n",
        "      <div style=\"margin-bottom: 10px; color: #000000;\">\n",
        "          <div style=\"display: flex;\">\n",
        "              <div style=\"flex: 1; margin-right: 10px;\">\n",
        "                  <div style=\"padding: 10px; border: 1px solid #808080; background-color: {bg_color1}; opacity: 0.7;\">\n",
        "                      <strong>Model:</strong> <em>{model1}</em><br>\n",
        "                      <strong>Score:</strong> <strong>{score1}</strong><br>\n",
        "                      <strong>Response:</strong><br>\n",
        "                      {markdown_to_html(response1)}\n",
        "                  </div>\n",
        "              </div>\n",
        "              <div style=\"flex: 1;\">\n",
        "                  <div style=\"padding: 10px; border: 1px solid #808080; background-color: {bg_color2}; opacity: 0.7;\">\n",
        "                      <strong>Model:</strong> <em>{model2}</em><br>\n",
        "                      <strong>Score:</strong> <strong>{score2}</strong><br>\n",
        "                      <strong>Response:</strong><br>\n",
        "                      {markdown_to_html(response2)}\n",
        "                  </div>\n",
        "              </div>\n",
        "          </div>\n",
        "      </div>\n",
        "  \"\"\"\n",
        "\n",
        "  criteria_rating = dict(sorted(criteria_rating.items(), key=lambda x: - x[1][0] + x[1][1]))\n",
        "  # print(criteria_mapping.values(), criteria_rating.values())\n",
        "  for criteria in criteria_rating:\n",
        "      indices = criteria_mapping[criteria]\n",
        "      i = indices[0]\n",
        "      j = indices[1]\n",
        "      label1 = rubrics[i]['label']\n",
        "      label2 = rubrics[j]['label']\n",
        "      model1 = rubrics[i]['metadata']['model']\n",
        "      model2 = rubrics[j]['metadata']['model']\n",
        "      # Color coding for labels and background color for models/responses in dark mode\n",
        "      color1 = '#00FF00' if label1 == 'yes' else '#FF0000'\n",
        "      color2 = '#00FF00' if label2 == 'yes' else '#FF0000'\n",
        "      bg_color1 = '#003300' if label1 == 'yes' else '#440000'\n",
        "      bg_color2 = '#003300' if label2 == 'yes' else '#440000'\n",
        "\n",
        "      # Construct HTML for each pair\n",
        "      html_content += f\"\"\"\n",
        "      <div style=\"margin-bottom: 10px; color: #FFFFFF;\">\n",
        "          <h4>{criteria}</h4>\n",
        "          <div style=\"display: flex;\">\n",
        "              <div style=\"flex: 1; margin-right: 10px;\">\n",
        "                  <div style=\"padding: 10px; border: 1px solid #808080; background-color: {bg_color1}; text-align: center;\">\n",
        "                      <strong style=\"color: {color1};\">{model1.upper()}</strong>\n",
        "                  </div>\n",
        "              </div>\n",
        "              <div style=\"flex: 1;\">\n",
        "                  <div style=\"padding: 10px; border: 1px solid #808080; background-color: {bg_color2}; text-align: center;\">\n",
        "                      <strong style=\"color: {color2};\">{model2.upper()}</strong>\n",
        "                  </div>\n",
        "              </div>\n",
        "          </div>\n",
        "      </div>\n",
        "      \"\"\"\n",
        "\n",
        "  # Display the HTML in the IPython notebook\n",
        "  display(HTML(html_content))\n",
        "\n",
        "# display_rubrics_ratings(each_data)"
      ],
      "metadata": {
        "colab": {
          "base_uri": "https://localhost:8080/",
          "height": 72
        },
        "id": "5TSr4qPakzxX",
        "outputId": "77f0b55d-f6b8-45a3-f2b8-697f2f9f9f35"
      },
      "execution_count": 91,
      "outputs": [
        {
          "output_type": "stream",
          "name": "stderr",
          "text": [
            "/var/folders/fz/bwkd624d779gp9w9grfp_sdr0000gn/T/ipykernel_71458/2824230620.py:8: DeprecationWarning: Importing display from IPython.core.display is deprecated since IPython 7.14, please import from IPython.display\n",
            "  from IPython.core.display import display, HTML\n"
          ]
        },
        {
          "output_type": "display_data",
          "data": {
            "text/plain": [
              "<IPython.core.display.Javascript object>"
            ],
            "application/javascript": [
              "google.colab.output.setIframeHeight(0, true, {maxHeight: 5000})"
            ]
          },
          "metadata": {}
        }
      ]
    },
    {
      "cell_type": "code",
      "source": [
        "all_cbv_disagree = json.load(open(\"/Users/yuchen/cbv-lmsys-disagree.json\", \"r\"))\n",
        "i = 0"
      ],
      "metadata": {
        "id": "XpcLwiBBkYtd"
      },
      "execution_count": 92,
      "outputs": []
    },
    {
      "cell_type": "code",
      "source": [
        "i += 1\n",
        "print(i)\n",
        "each_data = all_cbv_disagree[i]\n",
        "display_rubrics_ratings(each_data)"
      ],
      "metadata": {
        "id": "-VLD-oMopLWB",
        "colab": {
          "base_uri": "https://localhost:8080/",
          "height": 456
        },
        "outputId": "7738d405-d2c1-4086-ac03-068f54946831"
      },
      "execution_count": 100,
      "outputs": [
        {
          "output_type": "stream",
          "name": "stdout",
          "text": [
            "8\n"
          ]
        },
        {
          "output_type": "display_data",
          "data": {
            "text/plain": [
              "<IPython.core.display.HTML object>"
            ],
            "text/html": [
              "\n",
              "      <div style=\"padding: 10px; border: 1px solid #808080; background-color: #222222;\">\n",
              "          <p>Human: In this thread, I will give you sentences in Chinese. I want you to translate them into Japanese.&lt;|separator|&gt;</p>\n",
              "<p>Assistant:</p>\n",
              "      </div>\n",
              "  \n",
              "      <div style=\"margin-bottom: 10px; color: #000000;\">\n",
              "          <div style=\"display: flex;\">\n",
              "              <div style=\"flex: 1; margin-right: 10px;\">\n",
              "                  <div style=\"padding: 10px; border: 1px solid #808080; background-color: rgb(0, 255, 0); opacity: 0.7;\">\n",
              "                      <strong>Model:</strong> <em>grok-2-2024-08-13</em><br>\n",
              "                      <strong>Score:</strong> <strong>7</strong><br>\n",
              "                      <strong>Response:</strong><br>\n",
              "                      <p>Please go ahead and provide the Chinese sentences you'd like translated into Japanese.</p>\n",
              "                  </div>\n",
              "              </div>\n",
              "              <div style=\"flex: 1;\">\n",
              "                  <div style=\"padding: 10px; border: 1px solid #808080; background-color: rgb(255, 64, 0); opacity: 0.7;\">\n",
              "                      <strong>Model:</strong> <em>o1-preview</em><br>\n",
              "                      <strong>Score:</strong> <strong>2</strong><br>\n",
              "                      <strong>Response:</strong><br>\n",
              "                      <p>承知しました。中国語の文章をお送りください。日本語に翻訳いたします。</p>\n",
              "                  </div>\n",
              "              </div>\n",
              "          </div>\n",
              "      </div>\n",
              "  \n",
              "      <div style=\"margin-bottom: 10px; color: #FFFFFF;\">\n",
              "          <h4>Response politely requests that the user provide the sentences in Chinese so that Grok can translate them into Japanese. </h4>\n",
              "          <div style=\"display: flex;\">\n",
              "              <div style=\"flex: 1; margin-right: 10px;\">\n",
              "                  <div style=\"padding: 10px; border: 1px solid #808080; background-color: #003300; text-align: center;\">\n",
              "                      <strong style=\"color: #00FF00;\">GROK-2-2024-08-13</strong>\n",
              "                  </div>\n",
              "              </div>\n",
              "              <div style=\"flex: 1;\">\n",
              "                  <div style=\"padding: 10px; border: 1px solid #808080; background-color: #440000; text-align: center;\">\n",
              "                      <strong style=\"color: #FF0000;\">O1-PREVIEW</strong>\n",
              "                  </div>\n",
              "              </div>\n",
              "          </div>\n",
              "      </div>\n",
              "      \n",
              "      <div style=\"margin-bottom: 10px; color: #FFFFFF;\">\n",
              "          <h4>Response is written in English.</h4>\n",
              "          <div style=\"display: flex;\">\n",
              "              <div style=\"flex: 1; margin-right: 10px;\">\n",
              "                  <div style=\"padding: 10px; border: 1px solid #808080; background-color: #003300; text-align: center;\">\n",
              "                      <strong style=\"color: #00FF00;\">GROK-2-2024-08-13</strong>\n",
              "                  </div>\n",
              "              </div>\n",
              "              <div style=\"flex: 1;\">\n",
              "                  <div style=\"padding: 10px; border: 1px solid #808080; background-color: #440000; text-align: center;\">\n",
              "                      <strong style=\"color: #FF0000;\">O1-PREVIEW</strong>\n",
              "                  </div>\n",
              "              </div>\n",
              "          </div>\n",
              "      </div>\n",
              "      \n",
              "      <div style=\"margin-bottom: 10px; color: #FFFFFF;\">\n",
              "          <h4>The response lacks repetitive language. </h4>\n",
              "          <div style=\"display: flex;\">\n",
              "              <div style=\"flex: 1; margin-right: 10px;\">\n",
              "                  <div style=\"padding: 10px; border: 1px solid #808080; background-color: #003300; text-align: center;\">\n",
              "                      <strong style=\"color: #00FF00;\">GROK-2-2024-08-13</strong>\n",
              "                  </div>\n",
              "              </div>\n",
              "              <div style=\"flex: 1;\">\n",
              "                  <div style=\"padding: 10px; border: 1px solid #808080; background-color: #003300; text-align: center;\">\n",
              "                      <strong style=\"color: #00FF00;\">O1-PREVIEW</strong>\n",
              "                  </div>\n",
              "              </div>\n",
              "          </div>\n",
              "      </div>\n",
              "      "
            ]
          },
          "metadata": {}
        }
      ]
    },
    {
      "cell_type": "code",
      "source": [],
      "metadata": {
        "id": "DlFpiOEDDqzS"
      },
      "execution_count": null,
      "outputs": []
    }
  ]
}