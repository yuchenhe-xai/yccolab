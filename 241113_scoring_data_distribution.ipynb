{
  "nbformat": 4,
  "nbformat_minor": 0,
  "metadata": {
    "colab": {
      "provenance": [],
      "authorship_tag": "ABX9TyO0Mo1SwM658ZtOvWWtm4Ys",
      "include_colab_link": true
    },
    "kernelspec": {
      "name": "python3",
      "display_name": "Python 3"
    },
    "language_info": {
      "name": "python"
    }
  },
  "cells": [
    {
      "cell_type": "markdown",
      "metadata": {
        "id": "view-in-github",
        "colab_type": "text"
      },
      "source": [
        "<a href=\"https://colab.research.google.com/github/yuchenhe-xai/yccolab/blob/main/241113_scoring_data_distribution.ipynb\" target=\"_parent\"><img src=\"https://colab.research.google.com/assets/colab-badge.svg\" alt=\"Open In Colab\"/></a>"
      ]
    },
    {
      "cell_type": "markdown",
      "source": [
        "# Scores for data learnability\n",
        "As discussed in [doc](https://docs.google.com/document/d/1msVlIjZwDUNpwalNuJ60P-9ieSINEVsC5ItyIBPUHPk/edit?tab=t.0#heading=h.y24asf17gdl1) - we want to find the data distributions that worth labeling and RL against. Besides matching the distribution based on clustering and categories, here we are defining a score approximating the learnability. Our assumption is that examples with lower score is more learnable - aka policy's entropy would decreases significantly after training - model could learn from it.\n",
        "\n",
        "Here are 4 different options, note ${a}$ is the LLM token output, $p = p_\\text{target}(a|s)$ is the target policy after RL, $q = p_\\text{ref}(a|s)$ is the original SFT policy.\n",
        "- probability ratio (similar in ppo's off-policy importance weight) : $s_\\text{p} = p/q $ (?? higher means p is more certain?)\n",
        "- entropy gap $s_\\text{inverse_entropy} = p \\log p - q \\log q $ (higher means p is lower entropy and more certain)\n",
        "- cross entropy: $s_\\text{ce} = - p \\log q$  (lower means p is more certain)\n",
        "- kl divergence: $s_\\text{kl} = p \\log (p/q)$  (higher means p is more certain)\n",
        "- Jensen-Shannon Divergence $s_\\text{jsd} = 0.5 s_\\text{kl}(p || m) +  0.5 s_\\text{kl}(q || m) $. (higher means p is more different , not necessary more certain)\n",
        "\n",
        "Here we wrap this into a reward client to be used downstream."
      ],
      "metadata": {
        "id": "kcwvYJgR3Exa"
      }
    },
    {
      "cell_type": "code",
      "source": [
        "#@title imports\n",
        "\n",
        "import aiohttp\n",
        "import asyncio\n",
        "import numpy as np\n",
        "import pandas as pd\n",
        "import glob\n",
        "from enum import Enum\n",
        "from tqdm import tqdm\n",
        "from typing import Any\n",
        "from xlm.config import Config\n",
        "from xlm.config import configclass\n",
        "from xlm.posttrain import utils\n",
        "from xlm.posttrain.data import formatting\n",
        "from xlm.sampling_client import SamplingClient\n",
        "from xlm.tokenizers.constants import get_tokenizer, Tokenizer"
      ],
      "metadata": {
        "id": "y0rld9kB-h6w"
      },
      "execution_count": 2,
      "outputs": []
    },
    {
      "cell_type": "code",
      "execution_count": 3,
      "metadata": {
        "id": "_3qyQIn328Z5"
      },
      "outputs": [],
      "source": [
        "#@title define scorer\n",
        "DEFAULT_TOKENIZER = get_tokenizer(\"v4\")\n",
        "SFT_MODEL = \"v5l-1010-sft-rubrics-sglang.yuchen.svc.max.x.ai\"\n",
        "POLICY_MODEL = \"v5l-inf-mb-sglang.yuchen.svc.max.x.ai\"\n",
        "\n",
        "SFT_MODEL = \"sft-base-sglang.yuchen.svc.max.x.ai\"\n",
        "POLICY_MODEL = \"pmix-org-128k-800s-sglang.yuchen.svc.max.x.ai\"\n",
        "\n",
        "class ScoreType(Enum):\n",
        "  P = 0\n",
        "  CE = 1\n",
        "  KL = 2\n",
        "  IE = 3\n",
        "  JSD = 4\n",
        "\n",
        "@configclass\n",
        "class RelativeScorer(Config):\n",
        "    tokenizer: Tokenizer = DEFAULT_TOKENIZER\n",
        "    timeout: int = 100\n",
        "    model_addr: str = POLICY_MODEL\n",
        "    model_addr_ref: str = SFT_MODEL\n",
        "    max_parallel: int = 1024\n",
        "    semaphore = asyncio.Semaphore(value=max_parallel)\n",
        "\n",
        "    async def get_logprob(self, prompt: str, response: str, model_addr: str = None) -> float:\n",
        "        \"\"\"Compute the log probabilities for response\"\"\"\n",
        "        prompt_tokens = self.tokenizer.tokenize_no_eos(prompt)\n",
        "        suffix_prob = np.inf\n",
        "        async with self.semaphore:\n",
        "            async with aiohttp.ClientSession(\n",
        "                timeout=aiohttp.ClientTimeout(total=self.timeout)\n",
        "            ) as session:\n",
        "                logp_response = await session.post(\n",
        "                    f\"http://{model_addr}:30000/generate\",\n",
        "                    json={\n",
        "                        \"text\": prompt + response,\n",
        "                        \"sampling_params\": {\"temperature\": 0, \"max_new_tokens\": 0},\n",
        "                        \"return_logprob\": True,\n",
        "                        \"logprob_start_len\": len(prompt_tokens) - 1,\n",
        "                    },\n",
        "                )\n",
        "                response_json = await logp_response.json()\n",
        "                suffix_logprobs = response_json[\"meta_info\"][\"input_token_logprobs\"]\n",
        "                logprobs = [ri[0] for ri in suffix_logprobs]\n",
        "                suffix_prob = np.exp(np.mean(logprobs)).item()\n",
        "        return suffix_prob\n",
        "\n",
        "    async def get_scores(self, prompt: str, response: str):\n",
        "        \"\"\"\n",
        "        Compute the scores for response\n",
        "        note ${a}$ is the LLM token output, $p = p_\\text{target}(a|s)$ is the target policy after RL, $q = p_\\text{ref}(a|s)$ is the original SFT policy.\n",
        "        - probability ratio (similar in ppo's off-policy importance weight) : $s_\\text{p} = p/q $ (?? higher means p is more certain?)\n",
        "        - entropy gap $s_\\text{inverse_entropy} = p \\log p - q \\log q $ (higher means p is lower entropy and more certain)\n",
        "        - cross entropy: $s_\\text{ce} = - p \\log q$  (lower means p is more certain)\n",
        "        - kl divergence: $s_\\text{kl} = p \\log (p/q)$  (higher means p is more certain)\n",
        "        - Jensen-Shannon Divergence $s_\\text{jsd} = 0.5 s_\\text{kl}(p || m) +  0.5 s_\\text{kl}(q || m) $. (higher means p is more different , not necessary more certain)\n",
        "        \"\"\"\n",
        "        p_target = await self.get_logprob(prompt, response, model_addr=self.model_addr)\n",
        "        p_ref = await self.get_logprob(prompt, response, model_addr=self.model_addr_ref)\n",
        "        logp_m = np.log((p_target + p_ref) / 2 )\n",
        "        logp_target = np.log(p_target)\n",
        "        logp_ref = np.log(p_ref)\n",
        "        score_p = np.exp(logp_target - logp_ref)\n",
        "        score_ce = -logp_target * p_ref\n",
        "        score_kl = p_target * (logp_target - logp_ref)\n",
        "        score_inv_entropy = logp_target * p_target - logp_ref * p_ref\n",
        "        score_jsd = 0.5 * p_target * (logp_target - logp_m) + 0.5 * p_ref * (logp_ref - logp_m)\n",
        "        scores = {\n",
        "            \"score_p\": score_p,\n",
        "            \"score_ce\": score_ce,\n",
        "            \"score_kl\": score_kl,\n",
        "            \"score_inv_entropy\": score_inv_entropy,\n",
        "            \"score_jsd\": score_jsd,\n",
        "            \"logp_target\": logp_target,\n",
        "            \"logp_ref\": logp_ref,\n",
        "        }\n",
        "        return scores"
      ]
    },
    {
      "cell_type": "code",
      "source": [
        "scorer = RelativeScorer()\n",
        "await scorer.get_scores(prompt=\"asdfs\", response=\"dx\")\n"
      ],
      "metadata": {
        "colab": {
          "base_uri": "https://localhost:8080/"
        },
        "id": "-zewIJj4nB9_",
        "outputId": "4aed3394-371f-450d-e683-979e8befbd08"
      },
      "execution_count": 3,
      "outputs": [
        {
          "output_type": "execute_result",
          "data": {
            "text/plain": [
              "{'score_p': 0.9998749693616341,\n",
              " 'score_ce': -0.00015930273926557345,\n",
              " 'score_kl': -0.0001250583702399591,\n",
              " 'logp_target': 0.00015925745658518597,\n",
              " 'logp_ref': 0.0002842959119330156}"
            ]
          },
          "metadata": {},
          "execution_count": 3
        }
      ]
    },
    {
      "cell_type": "code",
      "source": [
        "#@title a new reward client that does scoring\n",
        "from xlm.reward_client import RewardClient\n",
        "from dataclasses import field\n",
        "\n",
        "@configclass\n",
        "class RelativeRewardClient(RewardClient):\n",
        "    model_addr: str = POLICY_MODEL\n",
        "    model_addr_ref: str = SFT_MODEL\n",
        "    scorer: RelativeScorer = None\n",
        "    num_samples: int = 1  # if we do monte carlo sampling\n",
        "    max_parallel: int = 1024\n",
        "\n",
        "    def __post_init__(self):\n",
        "        # if response is not provided or we want to use a specific model response, we set up the sampling client for it\n",
        "        if self.address.endswith(\"/\"):\n",
        "            self.address = self.address[:-1]\n",
        "        self.sampling_client = SamplingClient()\n",
        "        self.model = self.address.split(\"/\")[0]\n",
        "        self.sampling_client._grok_client.register_model(\n",
        "            model=self.model, model_address=self.address, max_parallel=self.max_parallel\n",
        "        )\n",
        "        self.semaphore = asyncio.Semaphore(value=self.max_parallel)\n",
        "        if self.scorer is None:\n",
        "            self.scorer = RelativeScorer(\n",
        "                model_addr=self.model_addr,\n",
        "                model_addr_ref=self.model_addr_ref,\n",
        "            )\n",
        "\n",
        "    async def _generate(\n",
        "        self, messages: list[dict[str, str]] = None, example: dict[str, Any] = None\n",
        "    ) -> dict[str, Any]:\n",
        "        async with self.semaphore:\n",
        "            prompt = example.get(\"prompt\", None)\n",
        "            response = example.get(\"response\", None)\n",
        "            if messages is not None:\n",
        "                if messages[-1][\"role\"] in [\"ASSIS\", \"assistant\"]:\n",
        "                    prompt = formatting.render_conversation(name=\"grok\", messages=messages[:-1])\n",
        "                    response = messages[-1][\"content\"]\n",
        "                else:\n",
        "                    prompt = formatting.render_conversation(name=\"grok\", messages=messages)\n",
        "\n",
        "            scores = {}\n",
        "            scores_raw_data = {}\n",
        "            try:\n",
        "                if response is not None:\n",
        "                    scores = await self.scorer.get_scores(prompt=prompt, response=response)\n",
        "                else:\n",
        "                    scores_all = []\n",
        "                    responses_all = []\n",
        "                    for i in range(self.num_samples):\n",
        "                        response_i = await self.sampling_client.generate(\n",
        "                            prompt=prompt, model=self.model\n",
        "                        )\n",
        "                        score_i = await self.scorer.get_scores(prompt=prompt, response=response_i)\n",
        "                        scores_all.append(score_i)\n",
        "                        responses_all.append(response_i)\n",
        "                        scores_raw_data[f\"response_{i}\"] = {\n",
        "                            \"response\": response_i,\n",
        "                            \"scores\": score_i,\n",
        "                        }\n",
        "                    # Ensure scores_raw_data is correctly associated with the current example\n",
        "                    keys = scores_all[0].keys()\n",
        "                    scores = {k: sum(s[k] for s in scores_all) / self.num_samples for k in keys}\n",
        "            except Exception as e:\n",
        "                print(e)\n",
        "                traceback.print_exc()\n",
        "                return None\n",
        "\n",
        "            # Update the example dictionary with the current scores_raw_data and scores\n",
        "            example[\"scores_raw_data\"] = scores_raw_data\n",
        "            example[\"scores_learnability\"] = scores\n",
        "            return example  # Return the entire example instead of just scores"
      ],
      "metadata": {
        "colab": {
          "base_uri": "https://localhost:8080/",
          "height": 783
        },
        "id": "tQv9deQ164rP",
        "outputId": "909cc9aa-7cab-49b7-c2d5-1aba860735f4"
      },
      "execution_count": 10,
      "outputs": [
        {
          "output_type": "error",
          "ename": "AssertionError",
          "evalue": "Duplicate Config Class RelativeScorer",
          "traceback": [
            "\u001b[0;31m---------------------------------------------------------------------------\u001b[0m",
            "\u001b[0;31mAssertionError\u001b[0m                            Traceback (most recent call last)",
            "Cell \u001b[0;32mIn[10], line 2\u001b[0m\n\u001b[1;32m      1\u001b[0m \u001b[38;5;66;03m#@title a new reward client that does scoring \u001b[39;00m\n\u001b[0;32m----> 2\u001b[0m \u001b[38;5;28;01mfrom\u001b[39;00m \u001b[38;5;21;01mxlm\u001b[39;00m\u001b[38;5;21;01m.\u001b[39;00m\u001b[38;5;21;01mreward_client\u001b[39;00m \u001b[38;5;28;01mimport\u001b[39;00m RewardClient\n\u001b[1;32m      3\u001b[0m \u001b[38;5;28;01mfrom\u001b[39;00m \u001b[38;5;21;01mdataclasses\u001b[39;00m \u001b[38;5;28;01mimport\u001b[39;00m field\n\u001b[1;32m      5\u001b[0m \u001b[38;5;66;03m## @configclass\u001b[39;00m\n",
            "File \u001b[0;32m~/xai/train/xlm/reward_client.py:20\u001b[0m\n\u001b[1;32m     18\u001b[0m \u001b[38;5;28;01mfrom\u001b[39;00m \u001b[38;5;21;01mxlm\u001b[39;00m\u001b[38;5;21;01m.\u001b[39;00m\u001b[38;5;21;01mposttrain\u001b[39;00m \u001b[38;5;28;01mimport\u001b[39;00m utils\n\u001b[1;32m     19\u001b[0m \u001b[38;5;28;01mfrom\u001b[39;00m \u001b[38;5;21;01mxlm\u001b[39;00m\u001b[38;5;21;01m.\u001b[39;00m\u001b[38;5;21;01mposttrain\u001b[39;00m\u001b[38;5;21;01m.\u001b[39;00m\u001b[38;5;21;01mdata\u001b[39;00m \u001b[38;5;28;01mimport\u001b[39;00m formatting\n\u001b[0;32m---> 20\u001b[0m \u001b[38;5;28;01mfrom\u001b[39;00m \u001b[38;5;21;01mxlm\u001b[39;00m\u001b[38;5;21;01m.\u001b[39;00m\u001b[38;5;21;01mposttrain\u001b[39;00m\u001b[38;5;21;01m.\u001b[39;00m\u001b[38;5;21;01mdata\u001b[39;00m\u001b[38;5;21;01m.\u001b[39;00m\u001b[38;5;21;01mscore\u001b[39;00m\u001b[38;5;21;01m.\u001b[39;00m\u001b[38;5;21;01mrelative_scorer\u001b[39;00m \u001b[38;5;28;01mimport\u001b[39;00m (\n\u001b[1;32m     21\u001b[0m     POLICY_MODEL,\n\u001b[1;32m     22\u001b[0m     SFT_MODEL,\n\u001b[1;32m     23\u001b[0m     RelativeScorer,\n\u001b[1;32m     24\u001b[0m )\n\u001b[1;32m     25\u001b[0m \u001b[38;5;28;01mfrom\u001b[39;00m \u001b[38;5;21;01mxlm\u001b[39;00m\u001b[38;5;21;01m.\u001b[39;00m\u001b[38;5;21;01mposttrain\u001b[39;00m\u001b[38;5;21;01m.\u001b[39;00m\u001b[38;5;21;01mgif\u001b[39;00m\u001b[38;5;21;01m.\u001b[39;00m\u001b[38;5;21;01msynthesizer\u001b[39;00m\u001b[38;5;21;01m.\u001b[39;00m\u001b[38;5;21;01mrubrics_synthesizer\u001b[39;00m \u001b[38;5;28;01mimport\u001b[39;00m (\n\u001b[1;32m     26\u001b[0m     RubricResult,\n\u001b[1;32m     27\u001b[0m     RubricSynthesizerCOT,\n\u001b[1;32m     28\u001b[0m )\n\u001b[1;32m     29\u001b[0m \u001b[38;5;28;01mfrom\u001b[39;00m \u001b[38;5;21;01mxlm\u001b[39;00m\u001b[38;5;21;01m.\u001b[39;00m\u001b[38;5;21;01mposttrain\u001b[39;00m\u001b[38;5;21;01m.\u001b[39;00m\u001b[38;5;21;01mgif\u001b[39;00m\u001b[38;5;21;01m.\u001b[39;00m\u001b[38;5;21;01mverifier\u001b[39;00m\u001b[38;5;21;01m.\u001b[39;00m\u001b[38;5;21;01mrubric_verifier\u001b[39;00m \u001b[38;5;28;01mimport\u001b[39;00m (\n\u001b[1;32m     30\u001b[0m     RubricVerifierNoCoT,\n\u001b[1;32m     31\u001b[0m     RubricVerifierV0,\n\u001b[1;32m     32\u001b[0m     RubricVerifierV1,\n\u001b[1;32m     33\u001b[0m     VerifierResult,\n\u001b[1;32m     34\u001b[0m )\n",
            "File \u001b[0;32m~/xai/train/xlm/posttrain/data/score/relative_scorer.py:27\u001b[0m\n\u001b[1;32m     22\u001b[0m     IE \u001b[38;5;241m=\u001b[39m \u001b[38;5;241m3\u001b[39m\n\u001b[1;32m     23\u001b[0m     JSD \u001b[38;5;241m=\u001b[39m \u001b[38;5;241m4\u001b[39m\n\u001b[1;32m     26\u001b[0m \u001b[38;5;129;43m@configclass\u001b[39;49m\n\u001b[0;32m---> 27\u001b[0m \u001b[38;5;28;43;01mclass\u001b[39;49;00m\u001b[43m \u001b[49m\u001b[38;5;21;43;01mRelativeScorer\u001b[39;49;00m\u001b[43m(\u001b[49m\u001b[43mConfig\u001b[49m\u001b[43m)\u001b[49m\u001b[43m:\u001b[49m\n\u001b[1;32m     28\u001b[0m \u001b[43m    \u001b[49m\u001b[43mtokenizer\u001b[49m\u001b[43m:\u001b[49m\u001b[43m \u001b[49m\u001b[43mTokenizer\u001b[49m\u001b[43m \u001b[49m\u001b[38;5;241;43m=\u001b[39;49m\u001b[43m \u001b[49m\u001b[43mDEFAULT_TOKENIZER\u001b[49m\n\u001b[1;32m     29\u001b[0m \u001b[43m    \u001b[49m\u001b[43mtimeout\u001b[49m\u001b[43m:\u001b[49m\u001b[43m \u001b[49m\u001b[38;5;28;43mint\u001b[39;49m\u001b[43m \u001b[49m\u001b[38;5;241;43m=\u001b[39;49m\u001b[43m \u001b[49m\u001b[38;5;241;43m100\u001b[39;49m\n",
            "File \u001b[0;32m~/xai/train/xlm/config.py:184\u001b[0m, in \u001b[0;36mconfigclass\u001b[0;34m(cls)\u001b[0m\n\u001b[1;32m    182\u001b[0m \u001b[38;5;28mcls\u001b[39m \u001b[38;5;241m=\u001b[39m dataclass(\u001b[38;5;28mcls\u001b[39m)\n\u001b[1;32m    183\u001b[0m cls_basename \u001b[38;5;241m=\u001b[39m \u001b[38;5;28mcls\u001b[39m\u001b[38;5;241m.\u001b[39m\u001b[38;5;18m__name__\u001b[39m\n\u001b[0;32m--> 184\u001b[0m \u001b[38;5;28;01massert\u001b[39;00m cls_basename \u001b[38;5;129;01mnot\u001b[39;00m \u001b[38;5;129;01min\u001b[39;00m CONFIG_REGISTRY, \u001b[38;5;124m\"\u001b[39m\u001b[38;5;124mDuplicate Config Class \u001b[39m\u001b[38;5;124m\"\u001b[39m \u001b[38;5;241m+\u001b[39m cls_basename\n\u001b[1;32m    185\u001b[0m CONFIG_REGISTRY[cls_basename] \u001b[38;5;241m=\u001b[39m \u001b[38;5;28mcls\u001b[39m\n\u001b[1;32m    186\u001b[0m \u001b[38;5;28;01mreturn\u001b[39;00m \u001b[38;5;28mcls\u001b[39m\n",
            "\u001b[0;31mAssertionError\u001b[0m: Duplicate Config Class RelativeScorer"
          ]
        }
      ]
    },
    {
      "cell_type": "code",
      "source": [
        "prompt = \"\"\"Human: You will classify what genre each book is based on its summary.  When answering give both the genre name and a short (1-2 sentences) justification for why it is that genre.  If a book could be classified as multiple genres pick the one that fits the best. Here are the genres:\n",
        "\n",
        "[Fantasy]: A genre of imaginative fiction involving magic and adventure, especially in a setting other than the real world\n",
        "[Science Fiction]: A form of fiction that deals principally with the impact of actual or imagined science upon society or individuals.\n",
        "[Dystopian]: A popular genre of science fiction, dystopian novels offer a bleak and frightening vision of the future.\n",
        "[Action & Adventure]: The protagonist has a very important goal to achieve, but they’re going to have to go through the wringer first! The hero experiences obstacle after obstacle and goes through downright dangerous situations but eventually, they triumph and return home transformed.\n",
        "[Mystery]: Also called detective fiction, this book genre is characterized by a gripping plot that revolves around a mystery.\n",
        " [Historical Fiction]: This book genre encompasses fictional stories in a historical setting, carefully balancing creativity and facts. In most cases, the characters and events are imagined by the author and enriched with historically accurate details from a specific time period.\n",
        "[Romance]:  The key thing to remember is that the romantic relationship must be the center point of the plot. (Other giveaways include a “happily ever after” ending and the warm fuzzies.)\n",
        "[Contemporary Fiction]: This book genre is occasionally lumped in with others to indicate that the book takes place in the present day. But in its simplest form, contemporary fiction is better understood as the absence of a genre. Your book doesn’t need tropes and trappings, monsters and mysteries, when its tension, drama, and conflict lies in the quirks and quandaries of your protagonist’s everyday life: work, politics, relationships, and the struggles of the modern era.\n",
        "[Literary Fiction]: Like contemporary fiction, books considered literary fiction can’t be neatly filed under any other genre. What distinguishes this genre from contemporary fiction is that works of literary fiction are thought to have considerable artistic value. If your prose is meant to engage the reader in thought, if your narrative is character-driven and introspective, and if you provide personal or social commentary on a “serious” theme, then chances are you’re writing lit-fic\n",
        "\n",
        "Your output should consist of the name of the genre in bold followed by the 1-2 sentence justification for why the book is considered to be that genre.\n",
        "\n",
        "Classify this book based on the summary:\n",
        "\n",
        "Crown of Secrets by Melanie Cellier\n",
        "Verene is a disappointment to her entire kingdom--the first royal ever born without power, despite her mother being the most powerful mage in history. So when she's sent to the Academy in neighboring Kallorway to forge ties with her people's traditional enemies, she's determined to succeed and prove she can still be of value to her kingdom.\n",
        "\n",
        "Prince Darius of Kallorway is the strongest mage in his family--and the only reason his weak father is still clinging to his throne. Starting at the Academy at the same time as Verene, the crown prince is cold and distant and shows no desire to connect with her. Instead he seems suspicious of both her presence and her claimed lack of power.\n",
        "\n",
        "Surrounded by unfamiliar politics and long-held enemies, Verene discovers that some at the Academy want her gone by whatever means necessary. As the threats grow ever more sinister, she starts to question all of her assumptions. The hardened prince might just be her best hope of survival and--even more shockingly--he might be right about her power. If Verene wants to survive Kallorway and the Academy, she must uncover her hidden powers and take her true place among the mages.<|separator|>\n",
        "\n",
        "Assistant:\"\"\".strip()\n",
        "# response = \"This book is classified as fantasy because it involves a world with magic and mages, which is a classic element of fantasy settings, and the plot revolves around magical powers and political intrigue in an imagined kingdom.\"\n",
        "example = {\"prompt\": prompt} #  \"response\": response}\n",
        "\n",
        "rr = RelativeRewardClient(address=POLICY_MODEL, num_samples=8)\n",
        "await rr._generate(example=example)"
      ],
      "metadata": {
        "colab": {
          "base_uri": "https://localhost:8080/",
          "height": 193
        },
        "id": "lLayEhGvAVve",
        "outputId": "97ffa653-3129-4002-99a6-bcd6f74509e1"
      },
      "execution_count": 5,
      "outputs": [
        {
          "output_type": "error",
          "ename": "NameError",
          "evalue": "name 'RelativeRewardClient' is not defined",
          "traceback": [
            "\u001b[0;31m---------------------------------------------------------------------------\u001b[0m",
            "\u001b[0;31mNameError\u001b[0m                                 Traceback (most recent call last)",
            "Cell \u001b[0;32mIn[5], line 28\u001b[0m\n\u001b[1;32m     25\u001b[0m \u001b[38;5;66;03m# response = \"This book is classified as fantasy because it involves a world with magic and mages, which is a classic element of fantasy settings, and the plot revolves around magical powers and political intrigue in an imagined kingdom.\"\u001b[39;00m\n\u001b[1;32m     26\u001b[0m example \u001b[38;5;241m=\u001b[39m {\u001b[38;5;124m\"\u001b[39m\u001b[38;5;124mprompt\u001b[39m\u001b[38;5;124m\"\u001b[39m: prompt} \u001b[38;5;66;03m#  \"response\": response}\u001b[39;00m\n\u001b[0;32m---> 28\u001b[0m rr \u001b[38;5;241m=\u001b[39m \u001b[43mRelativeRewardClient\u001b[49m(address\u001b[38;5;241m=\u001b[39mPOLICY_MODEL, num_samples\u001b[38;5;241m=\u001b[39m\u001b[38;5;241m8\u001b[39m)\n\u001b[1;32m     29\u001b[0m \u001b[38;5;28;01mawait\u001b[39;00m rr\u001b[38;5;241m.\u001b[39m_generate(example\u001b[38;5;241m=\u001b[39mexample)\n",
            "\u001b[0;31mNameError\u001b[0m: name 'RelativeRewardClient' is not defined"
          ]
        }
      ]
    },
    {
      "cell_type": "code",
      "source": [
        "#@title example of wrapping the scoring into a data processing of preference data\n",
        "\n",
        "# for new policy answer - if we dont have a model generated response yet\n",
        "DEFAULT_MODEL = \"v5l-1101-crm.yuchen.svc.max.x.ai\"\n",
        "\n",
        "sampling_client = SamplingClient()\n",
        "sampling_client._grok_client.register_model(\n",
        "    model=DEFAULT_MODEL, model_address=DEFAULT_MODEL\n",
        ")\n",
        "scorer = RelativeScorer()\n",
        "\n",
        "# for preference data: we get conversation from the preference conversation0/1 set and we are rating the latest of the reponses\n",
        "async def process_preference_data(\n",
        "    input_path, output_path, sampling_client = None, semaphore = None, pbar=None, scorer: RelativeScorer = scorer\n",
        "):\n",
        "    df1 = utils.read_df(glob.glob(input_path))\n",
        "    row_pbar = tqdm(total=len(df1), desc=f\"Processing {input_path}\", leave=False)\n",
        "    async def process_row(example):\n",
        "        example = example.to_dict() if not isinstance(example, dict) else example\n",
        "        reward = None\n",
        "        conv = example.get('conversation0')[:-1]\n",
        "        prompt = formatting.render_conversation(name=\"grok\", messages=conv) if conv is not None else None\n",
        "        if sampling_client:\n",
        "          response = sampling_client.generate(prompt=prompt)\n",
        "        else:\n",
        "          model_id_0 = example.get(\"model_0_id\")\n",
        "          model_id_1 =  example.get(\"model_1_id\")\n",
        "          if \"grok\" in model_id_0 and \"grok\" in model_id_1:\n",
        "            chosen_model = 0 if example.get(\"model_0_id\") > example.get(\"model_1_id\") else 1\n",
        "          elif \"grok\" in model_id_0:\n",
        "            chosen_model = 0\n",
        "          elif \"grok\" in model_id_1:\n",
        "            chosen_model = 1\n",
        "          else:\n",
        "            chosen_model = 0\n",
        "          response = example.get(f'conversation{chosen_model}', [])[-1][\"content\"]\n",
        "        scores = await scorer.get_scores(prompt, response)\n",
        "        example.update({\"entropy_scores\": scores})\n",
        "        row_pbar.update(1)\n",
        "        return example\n",
        "    # Process in batches\n",
        "    batch_size = 10_000  # len(df1) #  1000  # Adjust this based on your system's capacity\n",
        "    mapped_data = []\n",
        "    for start in range(0, len(df1), batch_size):\n",
        "        batch = df1.iloc[start : start + batch_size]\n",
        "        batch_results = await asyncio.gather(\n",
        "            *(process_row(example) for _, example in batch.iterrows())\n",
        "        )\n",
        "        mapped_data.extend(batch_results)\n",
        "\n",
        "    df2 = pd.DataFrame(mapped_data)\n",
        "    def getentropygap(row):\n",
        "        return row['entropy_scores']['gap_score']\n",
        "\n",
        "    # Apply the function to create a new column or use directly for sorting\n",
        "    # Here, we create a temporary column for clarity, but you can also sort directly\n",
        "    df2['temp_entropy_gap'] = df2.apply(getentropygap, axis=1)\n",
        "\n",
        "    # Now sort the DataFrame by the temporary column\n",
        "    df2_sorted = df2.sort_values(by='temp_entropy_gap', ascending=True)\n",
        "\n",
        "    utils.df_to_parquet(df2_sorted, output_path)\n",
        "    return df2_sorted"
      ],
      "metadata": {
        "colab": {
          "base_uri": "https://localhost:8080/"
        },
        "id": "m91yKZlx3Ilm",
        "outputId": "09c2c479-43f8-44a4-8346-b306ff1dd03a"
      },
      "execution_count": 11,
      "outputs": [
        {
          "output_type": "stream",
          "name": "stdout",
          "text": [
            "\u001b[2m[2024-11-15 00:43:46,473 E] \u001b[2;36m[colabbox-0:1619717] sampling_client:1010:\u001b[0m bedrock setup failed: The config profile (key0) could not be found\n"
          ]
        }
      ]
    },
    {
      "cell_type": "code",
      "source": [
        "#@title example of wrating the scoring into a data processing of rl data\n",
        "\n",
        "DEFAULT_REALTIVE_REWARD_CLIENT = RelativeRewardClient(address=POLICY_MODEL)\n",
        "# for preference data: we get conversation from the preference conversation0/1 set and we are rating the latest of the reponses\n",
        "async def process_rl_data(\n",
        "    input_path, output_path, sampling_client = None, semaphore = None, pbar=None, scorer_client: RelativeRewardClient = DEFAULT_REALTIVE_REWARD_CLIENT, scorer_type: ScoreType = ScoreType.KL\n",
        "):\n",
        "    score_name = scorer_type.name.lower()\n",
        "    output_path = output_path.replace(\".parquet\",  score_name + \".parquet\")\n",
        "    df1 = utils.read_df(glob.glob(input_path)).iloc[0:10]\n",
        "    row_pbar = tqdm(total=len(df1), desc=f\"Processing {input_path}\", leave=False)\n",
        "    async def process_row(example):\n",
        "        scores = await scorer_client._generate(example=example)\n",
        "        row_pbar.update(1)\n",
        "        return example\n",
        "    # Process in batches\n",
        "    batch_size = 10_000  # len(df1) #  1000  # Adjust this based on your system's capacity\n",
        "    mapped_data = []\n",
        "    for start in range(0, len(df1), batch_size):\n",
        "        batch = df1.iloc[start : start + batch_size]\n",
        "        batch_results = await asyncio.gather(\n",
        "            *(process_row(example) for _, example in batch.iterrows())\n",
        "        )\n",
        "        mapped_data.extend(batch_results)\n",
        "\n",
        "    df2 = pd.DataFrame(mapped_data)\n",
        "    def getentropygap(row):\n",
        "        return row['scores'].get(f'score_{score_name}', np.inf)\n",
        "\n",
        "    # Apply the function to create a new column or use directly for sorting\n",
        "    # Here, we create a temporary column for clarity, but you can also sort directly\n",
        "    df2['temp_entropy_gap'] = df2.apply(getentropygap, axis=1)\n",
        "\n",
        "    # Now sort the DataFrame by the temporary column\n",
        "    df2_sorted = df2.sort_values(by='temp_entropy_gap', ascending=True)\n",
        "\n",
        "    utils.df_to_parquet(df2_sorted, output_path)\n",
        "    return df2_sorted"
      ],
      "metadata": {
        "colab": {
          "base_uri": "https://localhost:8080/"
        },
        "id": "bb7ECjUsRsBe",
        "outputId": "9530f5e9-fc83-4d38-be97-b3b6f8176690"
      },
      "execution_count": 13,
      "outputs": [
        {
          "output_type": "stream",
          "name": "stdout",
          "text": [
            "\u001b[2m[2024-11-15 02:57:31,242 E] \u001b[2;36m[colabbox-0:1661815] sampling_client:1010:\u001b[0m bedrock setup failed: The config profile (key0) could not be found\n"
          ]
        }
      ]
    },
    {
      "cell_type": "code",
      "source": [
        "#@title load the dumped files and reorder them accordingly\n",
        "\n",
        "# input_folder = \"/data/datasets/rubrics/mixtures/policy/mix-rubrics-8k/df.parquet\"\n",
        "# output_path = \"/data/datasets/rubrics/mixtures/policy/mix-rubrics-8k-reorder/df_kl\"\n",
        "# newdata = await process_rl_data(input_folder, output_path)\n"
      ],
      "metadata": {
        "id": "sHh0lEOR6ejf"
      },
      "execution_count": 9,
      "outputs": []
    },
    {
      "cell_type": "code",
      "source": [
        "# output_path = \"/data/datasets/rubrics/mixtures/policy/mix-rubrics-8k-reorder/df_kl1/*.parquet\"\n",
        "\n",
        "# newdata = utils.read_df(glob.glob(output_path))\n",
        "# newdata"
      ],
      "metadata": {
        "id": "RC3uL6aP6nYt"
      },
      "execution_count": 7,
      "outputs": []
    },
    {
      "cell_type": "code",
      "source": [
        "# newdata.columns"
      ],
      "metadata": {
        "id": "pyAjp_Ni3Xyh"
      },
      "execution_count": 8,
      "outputs": []
    },
    {
      "cell_type": "code",
      "source": [
        "# !mkdir /data/datasets/rubrics/mixtures/policy/mix-rubrics-8k-reorder/df_inv_entropy1_dsc\n",
        "# newdata = newdata\n",
        "# score_name = 'ce'\n",
        "# score_name = \"ie\"\n",
        "def getentropygap(row):\n",
        "    return row['scores_learnability'].get(f'score_{score_name}', -np.inf)\n",
        "\n",
        "def update_row(row):\n",
        "    s = row[\"scores_learnability\"]\n",
        "    logp_target =  s[\"logp_target\"]\n",
        "    logp_ref =  s[\"logp_ref\"]\n",
        "    p_target = np.exp(logp_target)\n",
        "    p_ref = np.exp(logp_ref)\n",
        "    logp_m = np.log((p_target + p_ref) / 2 )\n",
        "    score_p = np.exp(logp_target - logp_ref)\n",
        "    score_ce = -logp_target * p_ref\n",
        "    score_kl = p_target * (logp_target - logp_ref)\n",
        "    score_inv_entropy = logp_target * p_target - logp_ref * p_ref\n",
        "    score_jsd = 0.5 * p_target * (logp_target - logp_m) + 0.5 * p_ref * (logp_ref - logp_m)\n",
        "    scores = {\n",
        "        \"score_p\": score_p,\n",
        "        \"score_ce\": score_ce,\n",
        "        \"score_kl\": score_kl,\n",
        "        \"score_ie\": score_inv_entropy,\n",
        "        \"score_jsd\": score_jsd,\n",
        "        \"logp_target\": logp_target,\n",
        "        \"logp_ref\": logp_ref,\n",
        "    }\n",
        "    row[\"scores_learnability\"] |= scores\n",
        "    for k, v in scores.items():\n",
        "      row[k] = v\n",
        "    return row\n",
        "\n",
        "# Apply the function to create a new column or use directly for sorting\n",
        "# Here, we create a temporary column for clarity, but you can also sort directly\n",
        "# newdata[f'temp_{score_name}'] =\n",
        "\n",
        "output_path = \"/data/datasets/rubrics/mixtures/policy/mix-rubrics-8k-reorder/df_kl1_dsc/*.parquet\"\n",
        "newdata = utils.read_df(glob.glob(output_path))\n",
        "newdata = newdata.apply(update_row, axis=1)\n",
        "!mkdir /data/datasets/rubrics/mixtures/policy/mix-rubrics-8k-reorder/df_org1\n",
        "newdata.to_parquet(f\"/data/datasets/rubrics/mixtures/policy/mix-rubrics-8k-reorder/df_org1/df.parquet\")\n",
        "# newdata = newdata.sort_values(by=f'temp_{score_name}', ascending=False)\n",
        "# newdata.to_parquet(f\"/data/datasets/rubrics/mixtures/policy/mix-rubrics-8k-reorder/df_{score_name}1_dsc/df.parquet\")"
      ],
      "metadata": {
        "colab": {
          "base_uri": "https://localhost:8080/"
        },
        "id": "HtHiz8Q7ebV-",
        "outputId": "e4c18501-1b44-4d9f-a7c6-84aacb5c241c"
      },
      "execution_count": 21,
      "outputs": [
        {
          "output_type": "stream",
          "name": "stderr",
          "text": [
            "reading paths: 100%|█████████████████████████████████████████████████████████████████████████████████████████████████████████████████| 1/1 [00:00<00:00,  1.42it/s]\n"
          ]
        },
        {
          "output_type": "stream",
          "name": "stdout",
          "text": [
            "mkdir: cannot create directory ‘/data/datasets/rubrics/mixtures/policy/mix-rubrics-8k-reorder/df_org1’: File exists\r\n"
          ]
        }
      ]
    },
    {
      "cell_type": "code",
      "source": [],
      "metadata": {
        "id": "H7iWR8KceyWm"
      },
      "execution_count": 61,
      "outputs": []
    },
    {
      "cell_type": "code",
      "source": [
        "#@title visualize the distributions of the scores\n",
        "\n",
        "import pandas as pd\n",
        "import matplotlib.pyplot as plt\n",
        "import numpy as np\n",
        "\n",
        "# Load the data\n",
        "# Assuming the dataset is in a CSV file named 'newdata.csv'\n",
        "\n",
        "# Extracting the column of interest for plotting\n",
        "\n",
        "# col = \"score_ie\"\n",
        "# name = \"Inverse Entropy Gap = plogp - qlogq (higher means p certain)\"\n",
        "\n",
        "# col = \"score_kl\"\n",
        "# name= \"KL divergence = plog(p/q)  (higher means p certain )\"\n",
        "\n",
        "# col = \"score_p\"\n",
        "# name = \"P ratio = log(p/q) (higher means p certain)\"\n",
        "\n",
        "col = \"score_ce\"\n",
        "name = \"Cross Entropy = -plogq (higher means p certain)\"\n",
        "\n",
        "base = 0.0\n",
        "temp_entropy_gap = newdata[col]\n",
        "\n",
        "# Creating figure and axis\n",
        "fig, (ax1, ax2) = plt.subplots(1, 2, figsize=(20, 6))\n",
        "\n",
        "# Plotting histogram\n",
        "n, bins, patches = ax1.hist(temp_entropy_gap, bins=100, edgecolor='black')\n",
        "ax1.set_title(f'Histogram of {name}')\n",
        "ax1.vlines(base, 0, np.max(n), linestyles='dashed', colors='black')\n",
        "ax1.set_xlabel(name)\n",
        "ax1.set_ylabel('Frequency')\n",
        "\n",
        "# Plotting a density plot\n",
        "ax2.hist(temp_entropy_gap, bins=100, density=True, alpha=0.6, color='g')\n",
        "mu, sigma = np.mean(temp_entropy_gap), np.std(temp_entropy_gap)\n",
        "x = np.linspace(mu - 3*sigma, mu + 3*sigma, 100)\n",
        "ax2.plot(x, 1/(sigma * np.sqrt(2*np.pi)) * np.exp(- (x - mu)**2 / (2 * sigma**2)),\n",
        "         linewidth=2, color='r', label='Gaussian Fit')\n",
        "ax2.vlines(base, 0, 10, linestyles='dashed', colors='black')\n",
        "\n",
        "ax2.set_title(f'Density Plot of {name}')\n",
        "ax2.set_xlabel(name)\n",
        "ax2.set_ylabel('Density')\n",
        "ax2.legend()\n",
        "\n",
        "# Showing the plot\n",
        "plt.tight_layout()\n",
        "plt.show()"
      ],
      "metadata": {
        "colab": {
          "base_uri": "https://localhost:8080/",
          "height": 607
        },
        "id": "8SRNwIxGNXKh",
        "outputId": "07ad9a03-2d32-4b99-b00f-1ce42cec0dd5"
      },
      "execution_count": 29,
      "outputs": [
        {
          "output_type": "display_data",
          "data": {
            "text/plain": [
              "<Figure size 2000x600 with 2 Axes>"
            ],
            "image/png": "[encoded data removed]"
          },
          "metadata": {}
        }
      ]
    },
    {
      "cell_type": "code",
      "source": [
        "temp_entropy_gap.describe()"
      ],
      "metadata": {
        "colab": {
          "base_uri": "https://localhost:8080/"
        },
        "id": "Z2ydfMNgQ_Zw",
        "outputId": "c6f27987-c388-477c-f1d4-343271fef621"
      },
      "execution_count": 20,
      "outputs": [
        {
          "output_type": "execute_result",
          "data": {
            "text/plain": [
              "count    24296.000000\n",
              "mean         0.335365\n",
              "std          0.193703\n",
              "min         -0.252056\n",
              "25%          0.205531\n",
              "50%          0.290752\n",
              "75%          0.416485\n",
              "max          2.217359\n",
              "Name: temp_entropy_gap, dtype: float64"
            ]
          },
          "metadata": {},
          "execution_count": 20
        }
      ]
    },
    {
      "cell_type": "code",
      "source": [],
      "metadata": {
        "id": "uFpfnNJx4JvM"
      },
      "execution_count": 9,
      "outputs": []
    },
    {
      "cell_type": "code",
      "source": [],
      "metadata": {
        "id": "EHoxfLqSucEY"
      },
      "execution_count": 9,
      "outputs": []
    },
    {
      "cell_type": "code",
      "source": [],
      "metadata": {
        "id": "mr4UtR9WxbcS"
      },
      "execution_count": null,
      "outputs": []
    }
  ]
}